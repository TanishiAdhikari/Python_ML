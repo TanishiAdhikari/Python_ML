{
  "nbformat": 4,
  "nbformat_minor": 0,
  "metadata": {
    "colab": {
      "provenance": []
    },
    "kernelspec": {
      "name": "python3",
      "display_name": "Python 3"
    },
    "language_info": {
      "name": "python"
    }
  },
  "cells": [
    {
      "cell_type": "code",
      "execution_count": null,
      "metadata": {
        "colab": {
          "base_uri": "https://localhost:8080/"
        },
        "id": "3sTlFw75kUu7",
        "outputId": "eb027bc5-a323-4892-92b5-92df952c4b95"
      },
      "outputs": [
        {
          "output_type": "stream",
          "name": "stdout",
          "text": [
            "Total Data Points: 55168\n"
          ]
        }
      ],
      "source": [
        "import numpy as np\n",
        "import matplotlib.pyplot as plt\n",
        "\n",
        "file_path = \"/content/emg_myopathy.dat\"\n",
        "data = np.fromfile(file_path, dtype = np.float32)\n",
        "\n",
        "total_data_points = len(data)\n",
        "\n",
        "print(\"Total Data Points:\", total_data_points)"
      ]
    },
    {
      "cell_type": "code",
      "source": [
        "data = np.nan_to_num(data)\n",
        "data = np.nan_to_num(data, posinf=0, neginf=0)\n",
        "data += 1e-8"
      ],
      "metadata": {
        "id": "S6FHeedxkjSw"
      },
      "execution_count": null,
      "outputs": []
    },
    {
      "cell_type": "code",
      "source": [
        "plt.plot(data)\n",
        "plt.title(\"example spectogram\")\n",
        "plt.xlabel(\"data point index\")\n",
        "plt.ylabel(\"Amplitude\")\n",
        "plt.show"
      ],
      "metadata": {
        "colab": {
          "base_uri": "https://localhost:8080/",
          "height": 641
        },
        "id": "MBfPRcNtkl_8",
        "outputId": "6ddd4646-7217-40d0-ff95-899c6a6eb31d"
      },
      "execution_count": null,
      "outputs": [
        {
          "output_type": "execute_result",
          "data": {
            "text/plain": [
              "<function matplotlib.pyplot.show(close=None, block=None)>"
            ],
            "text/html": [
              "<div style=\"max-width:800px; border: 1px solid var(--colab-border-color);\"><style>\n",
              "      pre.function-repr-contents {\n",
              "        overflow-x: auto;\n",
              "        padding: 8px 12px;\n",
              "        max-height: 500px;\n",
              "      }\n",
              "\n",
              "      pre.function-repr-contents.function-repr-contents-collapsed {\n",
              "        cursor: pointer;\n",
              "        max-height: 100px;\n",
              "      }\n",
              "    </style>\n",
              "    <pre style=\"white-space: initial; background:\n",
              "         var(--colab-secondary-surface-color); padding: 8px 12px;\n",
              "         border-bottom: 1px solid var(--colab-border-color);\"><b>matplotlib.pyplot.show</b><br/>def show(*args, **kwargs)</pre><pre class=\"function-repr-contents function-repr-contents-collapsed\" style=\"\"><a class=\"filepath\" style=\"display:none\" href=\"#\">/usr/local/lib/python3.10/dist-packages/matplotlib/pyplot.py</a>Display all open figures.\n",
              "\n",
              "Parameters\n",
              "----------\n",
              "block : bool, optional\n",
              "    Whether to wait for all figures to be closed before returning.\n",
              "\n",
              "    If `True` block and run the GUI main loop until all figure windows\n",
              "    are closed.\n",
              "\n",
              "    If `False` ensure that all figure windows are displayed and return\n",
              "    immediately.  In this case, you are responsible for ensuring\n",
              "    that the event loop is running to have responsive figures.\n",
              "\n",
              "    Defaults to True in non-interactive mode and to False in interactive\n",
              "    mode (see `.pyplot.isinteractive`).\n",
              "\n",
              "See Also\n",
              "--------\n",
              "ion : Enable interactive mode, which shows / updates the figure after\n",
              "      every plotting command, so that calling ``show()`` is not necessary.\n",
              "ioff : Disable interactive mode.\n",
              "savefig : Save the figure to an image file instead of showing it on screen.\n",
              "\n",
              "Notes\n",
              "-----\n",
              "**Saving figures to file and showing a window at the same time**\n",
              "\n",
              "If you want an image file as well as a user interface window, use\n",
              "`.pyplot.savefig` before `.pyplot.show`. At the end of (a blocking)\n",
              "``show()`` the figure is closed and thus unregistered from pyplot. Calling\n",
              "`.pyplot.savefig` afterwards would save a new and thus empty figure. This\n",
              "limitation of command order does not apply if the show is non-blocking or\n",
              "if you keep a reference to the figure and use `.Figure.savefig`.\n",
              "\n",
              "**Auto-show in jupyter notebooks**\n",
              "\n",
              "The jupyter backends (activated via ``%matplotlib inline``,\n",
              "``%matplotlib notebook``, or ``%matplotlib widget``), call ``show()`` at\n",
              "the end of every cell by default. Thus, you usually don&#x27;t have to call it\n",
              "explicitly there.</pre>\n",
              "      <script>\n",
              "      if (google.colab.kernel.accessAllowed && google.colab.files && google.colab.files.view) {\n",
              "        for (const element of document.querySelectorAll('.filepath')) {\n",
              "          element.style.display = 'block'\n",
              "          element.onclick = (event) => {\n",
              "            event.preventDefault();\n",
              "            event.stopPropagation();\n",
              "            google.colab.files.view(element.textContent, 401);\n",
              "          };\n",
              "        }\n",
              "      }\n",
              "      for (const element of document.querySelectorAll('.function-repr-contents')) {\n",
              "        element.onclick = (event) => {\n",
              "          event.preventDefault();\n",
              "          event.stopPropagation();\n",
              "          element.classList.toggle('function-repr-contents-collapsed');\n",
              "        };\n",
              "      }\n",
              "      </script>\n",
              "      </div>"
            ]
          },
          "metadata": {},
          "execution_count": 8
        },
        {
          "output_type": "display_data",
          "data": {
            "text/plain": [
              "<Figure size 640x480 with 1 Axes>"
            ],
            "image/png": "[encoded data removed]"
          },
          "metadata": {}
        }
      ]
    },
    {
      "cell_type": "code",
      "source": [
        "import pandas as pd\n",
        "df = pd.DataFrame(data)\n",
        "print(df.head())"
      ],
      "metadata": {
        "colab": {
          "base_uri": "https://localhost:8080/"
        },
        "id": "YwV_gLEPkndl",
        "outputId": "dc513e06-7591-4360-dd2d-cb5c056c3f90"
      },
      "execution_count": null,
      "outputs": [
        {
          "output_type": "stream",
          "name": "stdout",
          "text": [
            "              0\n",
            "0  1.000000e-08\n",
            "1  1.000000e-08\n",
            "2  1.000000e-08\n",
            "3  1.000000e-08\n",
            "4  1.000000e-08\n"
          ]
        }
      ]
    },
    {
      "cell_type": "code",
      "source": [
        "import numpy as np\n",
        "import pandas as pd\n",
        "from sklearn.model_selection import train_test_split\n",
        "import tensorflow as tf\n",
        "from tensorflow.keras.models import Sequential\n",
        "from tensorflow.keras.layers import Conv1D, MaxPooling1D, Flatten, Dense, Dropout\n",
        "\n",
        "# Assuming dat_file_path contains the path to your .dat file\n",
        "dat_file_path = \"/content/emg_myopathy.dat\"\n",
        "\n",
        "# Load your data into 'data'\n",
        "data = np.fromfile(dat_file_path, dtype=np.float32)\n",
        "\n",
        "# Assuming 'labels_binary' is a pandas Series with binary labels\n",
        "threshold = 0\n",
        "labels_binary = (data > threshold).astype(int)\n",
        "\n",
        "# Split the data into training and testing sets\n",
        "X_train, X_test, y_train, y_test = train_test_split(data, labels_binary, test_size=0.2, random_state=42)\n",
        "\n",
        "# # Print shapes for debugging\n",
        "# print(\"X_train shape:\", X_train.shape)\n",
        "# print(\"X_test shape:\", X_test.shape)\n",
        "# print(\"y_train shape:\", y_train.shape)\n",
        "# print(\"y_test shape:\", y_test.shape)\n",
        "\n",
        "# Reshape the data for CNN input\n",
        "num_time_steps = 1  # Number of time steps (assuming each data point is a time step)\n",
        "num_features = 1  # Number of features\n",
        "\n",
        "X_train = X_train.reshape((X_train.shape[0], num_time_steps, num_features))\n",
        "X_test = X_test.reshape((X_test.shape[0], num_time_steps, num_features))\n",
        "\n",
        "# Print the new shapes for verification\n",
        "print(\"X_train shape after reshaping:\", X_train.shape)\n",
        "print(\"X_test shape after reshaping:\", X_test.shape)\n",
        "\n",
        "from tensorflow.keras.layers import ZeroPadding1D\n",
        "\n",
        "model = Sequential([\n",
        "    ZeroPadding1D(padding=1, input_shape=(num_time_steps, num_features)),\n",
        "    Conv1D(32, kernel_size=3, activation='relu'),\n",
        "    Flatten(),\n",
        "    Dense(1, activation='sigmoid')\n",
        "])\n",
        "\n",
        "# Compile the model\n",
        "model.compile(optimizer='adam', loss='binary_crossentropy', metrics=['accuracy'])\n",
        "\n",
        "# Train the model\n",
        "model.fit(X_train, y_train, epochs=10, batch_size=32, validation_data=(X_test, y_test))\n"
      ],
      "metadata": {
        "colab": {
          "base_uri": "https://localhost:8080/"
        },
        "id": "swq1ud_kkqZD",
        "outputId": "2c30dde1-edc3-4aef-d6d2-79de01f9a3a6"
      },
      "execution_count": null,
      "outputs": [
        {
          "output_type": "stream",
          "name": "stdout",
          "text": [
            "X_train shape after reshaping: (44134, 1, 1)\n",
            "X_test shape after reshaping: (11034, 1, 1)\n",
            "Epoch 1/10\n",
            "1380/1380 [==============================] - 4s 2ms/step - loss: nan - accuracy: 0.5431 - val_loss: nan - val_accuracy: 0.5410\n",
            "Epoch 2/10\n",
            "1380/1380 [==============================] - 3s 2ms/step - loss: nan - accuracy: 0.5431 - val_loss: nan - val_accuracy: 0.5410\n",
            "Epoch 3/10\n",
            "1380/1380 [==============================] - 3s 2ms/step - loss: nan - accuracy: 0.5431 - val_loss: nan - val_accuracy: 0.5410\n",
            "Epoch 4/10\n",
            "1380/1380 [==============================] - 3s 2ms/step - loss: nan - accuracy: 0.5431 - val_loss: nan - val_accuracy: 0.5410\n",
            "Epoch 5/10\n",
            "1380/1380 [==============================] - 3s 2ms/step - loss: nan - accuracy: 0.5431 - val_loss: nan - val_accuracy: 0.5410\n",
            "Epoch 6/10\n",
            "1380/1380 [==============================] - 3s 2ms/step - loss: nan - accuracy: 0.5431 - val_loss: nan - val_accuracy: 0.5410\n",
            "Epoch 7/10\n",
            "1380/1380 [==============================] - 3s 2ms/step - loss: nan - accuracy: 0.5431 - val_loss: nan - val_accuracy: 0.5410\n",
            "Epoch 8/10\n",
            "1380/1380 [==============================] - 3s 2ms/step - loss: nan - accuracy: 0.5431 - val_loss: nan - val_accuracy: 0.5410\n",
            "Epoch 9/10\n",
            "1380/1380 [==============================] - 3s 2ms/step - loss: nan - accuracy: 0.5431 - val_loss: nan - val_accuracy: 0.5410\n",
            "Epoch 10/10\n",
            "1380/1380 [==============================] - 3s 2ms/step - loss: nan - accuracy: 0.5431 - val_loss: nan - val_accuracy: 0.5410\n"
          ]
        },
        {
          "output_type": "execute_result",
          "data": {
            "text/plain": [
              "<keras.src.callbacks.History at 0x7d3ce0681b40>"
            ]
          },
          "metadata": {},
          "execution_count": 25
        }
      ]
    },
    {
      "cell_type": "code",
      "source": [
        "model.summary()"
      ],
      "metadata": {
        "id": "KQtJN_l8A1D5",
        "outputId": "ee9f5bc5-f2ac-43ee-ae6c-5a2b790e6048",
        "colab": {
          "base_uri": "https://localhost:8080/"
        }
      },
      "execution_count": null,
      "outputs": [
        {
          "output_type": "stream",
          "name": "stdout",
          "text": [
            "Model: \"sequential_12\"\n",
            "_________________________________________________________________\n",
            " Layer (type)                Output Shape              Param #   \n",
            "=================================================================\n",
            " zero_padding1d (ZeroPaddin  (None, 3, 1)              0         \n",
            " g1D)                                                            \n",
            "                                                                 \n",
            " conv1d_17 (Conv1D)          (None, 1, 32)             128       \n",
            "                                                                 \n",
            " flatten_12 (Flatten)        (None, 32)                0         \n",
            "                                                                 \n",
            " dense_23 (Dense)            (None, 1)                 33        \n",
            "                                                                 \n",
            "=================================================================\n",
            "Total params: 161 (644.00 Byte)\n",
            "Trainable params: 161 (644.00 Byte)\n",
            "Non-trainable params: 0 (0.00 Byte)\n",
            "_________________________________________________________________\n"
          ]
        }
      ]
    },
    {
      "cell_type": "code",
      "source": [],
      "metadata": {
        "id": "1Io1RyKGA1v7"
      },
      "execution_count": null,
      "outputs": []
    }
  ]
}